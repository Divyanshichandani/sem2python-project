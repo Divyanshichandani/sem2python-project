{
  "nbformat": 4,
  "nbformat_minor": 0,
  "metadata": {
    "colab": {
      "provenance": [],
      "authorship_tag": "ABX9TyPhTQOdPqK4Z+WyXVZ/slUJ",
      "include_colab_link": true
    },
    "kernelspec": {
      "name": "python3",
      "display_name": "Python 3"
    },
    "language_info": {
      "name": "python"
    }
  },
  "cells": [
    {
      "cell_type": "markdown",
      "metadata": {
        "id": "view-in-github",
        "colab_type": "text"
      },
      "source": [
        "<a href=\"https://colab.research.google.com/github/Divyanshichandani/sem2python-project/blob/main/MINOR_PYTHON_PROJECT.ipynb\" target=\"_parent\"><img src=\"https://colab.research.google.com/assets/colab-badge.svg\" alt=\"Open In Colab\"/></a>"
      ]
    },
    {
      "cell_type": "code",
      "execution_count": 18,
      "metadata": {
        "colab": {
          "base_uri": "https://localhost:8080/"
        },
        "id": "pqWEcLBbBvfd",
        "outputId": "aec57a10-9e82-4c6e-b531-affb921d5e73"
      },
      "outputs": [
        {
          "output_type": "stream",
          "name": "stdout",
          "text": [
            "Enter the name of the city: dehradun\n",
            "\n",
            "Temperature in dehradun: 25.19°C\n",
            "Humidity in dehradun: 19%\n",
            "Weather Description of dehradun: scattered clouds\n"
          ]
        }
      ],
      "source": [
        "import requests\n",
        "\n",
        "api_key='edb6ae89a778c60cfd8d6910b1099381'\n",
        "city = input(\"Enter the name of the city: \")\n",
        "\n",
        "\n",
        "\n",
        "def get_weather_data(city, api_key):\n",
        "    base_url = \"http://api.openweathermap.org/data/2.5/weather?\"\n",
        "    complete_url = f\"{base_url}appid={api_key}&q={city}\"\n",
        "    response = requests.get(complete_url)\n",
        "    return response.json()\n",
        "\n",
        "weather_data = get_weather_data(city, api_key)\n",
        "\n",
        "def parse_weather_data(weather_data):\n",
        "    if weather_data[\"cod\"] != \"404\":\n",
        "        main_data = weather_data[\"main\"]\n",
        "        temperature = main_data[\"temp\"] - 273.15 # Convert from Kelvin to Celsius\n",
        "        humidity = main_data[\"humidity\"]\n",
        "        weather_desc = weather_data[\"weather\"][0][\"description\"]\n",
        "        return temperature, humidity, weather_desc\n",
        "    else:\n",
        "        return None\n",
        "\n",
        "temperature, humidity, weather_desc = parse_weather_data(weather_data)\n",
        "\n",
        "def convert_temperature(kelvin):\n",
        "    celsius = kelvin - 273.15\n",
        "    return round(celsius, 2)\n",
        "\n",
        "def display_weather_forecast(t, h, wd):\n",
        "    print(f\"\\nTemperature in {city}: {round(t, 2)}°C\")\n",
        "    print(f\"Humidity in {city}: {h}%\")\n",
        "    print(f\"Weather Description of {city}: {wd}\")\n",
        "\n",
        "display_weather_forecast(temperature, humidity, weather_desc)\n",
        "\n",
        "\n",
        "\n"
      ]
    }
  ]
}